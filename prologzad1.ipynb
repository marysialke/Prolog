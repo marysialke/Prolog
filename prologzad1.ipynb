{
  "nbformat": 4,
  "nbformat_minor": 0,
  "metadata": {
    "colab": {
      "provenance": []
    },
    "kernelspec": {
      "name": "python3",
      "display_name": "Python 3"
    },
    "language_info": {
      "name": "python"
    }
  },
  "cells": [
    {
      "cell_type": "markdown",
      "source": [
        "# zad.1 Drzewo genealogiczne\n",
        "\n",
        "Stwórz bazę faktów dla drzewa genealogicznego, która obejmuje relacje rodzic-dziecko, małżeństwo oraz płeć. Następnie zdefiniuj reguły przodek(X, Y), brat(X, Y), siostra(X, Y), kuzyn(X, Y)."
      ],
      "metadata": {
        "id": "RC2GvWErhls1"
      }
    },
    {
      "cell_type": "code",
      "source": [
        "% Fakty\n",
        "ojciec(tawus, emna).\n",
        "ojciec(tawus, khalis).\n",
        "ojciec(adel, gasper).\n",
        "ojciec(adel, radia).\n",
        "ojciec(khalis, sahalia).\n",
        "ojciec(khalis, salmi).\n",
        "ojciec(khalis, chaili).\n",
        "matka(ifa, emna).\n",
        "matka(ifa, khalis).\n",
        "matka(emna, gasper).\n",
        "matka(emna, radia).\n",
        "matka(liqa, sahalia).\n",
        "matka(liqa, salmi).\n",
        "matka(liqa, chaili).\n",
        "malzenstwo(tawus, ifa).\n",
        "malzenstwo(adel, emna).\n",
        "malzenstwo(khalis, liqa).\n",
        "mezczyzna(tawus).\n",
        "mezczyzna(adel).\n",
        "mezczyzna(gasper).\n",
        "mezczyzna(khalis).\n",
        "kobieta(ifa).\n",
        "kobieta(emna).\n",
        "kobieta(radia).\n",
        "kobieta(liqa).\n",
        "kobieta(sahalia).\n",
        "kobieta(salmi).\n",
        "kobieta(chaili).\n",
        "rodzic(tawus, emna).\n",
        "rodzic(tawus, khalis).\n",
        "rodzic(ifa, emna).\n",
        "rodzic(ifa, khalis).\n",
        "rodzic(adel, gasper).\n",
        "rodzic(adel, radia).\n",
        "rodzic(emna, gasper).\n",
        "rodzic(emna, radia).\n",
        "rodzic(khalis, sahalia).\n",
        "rodzic(khalis, salmi).\n",
        "rodzic(khalis, chaili).\n",
        "rodzic(liqa, sahalia).\n",
        "rodzic(liqa, salmi).\n",
        "rodzic(liqa, chaili).\n",
        "% Przodkowie\n",
        "przodek(X, Y) :- rodzic(X, Y).\n",
        "przodek(X, Y) :- rodzic(Z, Y), przodek(X, Z).\n",
        "przodek(X, Y) :- ojciec(X, Y).\n",
        "przodek(X, Y) :- matka(X, Y).\n",
        "przodek(X, Y) :- ojciec(Z, Y), przodek(X, Z).\n",
        "przodek(X, Y) :- matka(Z, Y), przodek(X, Z).\n",
        "% Rodzenstwo\n",
        "brat(X, Y) :- ojciec(Z, X), ojciec(Z, Y), mezczyzna(X), X \\= Y.\n",
        "brat(X, Y) :- matka(Z, X), matka(Z, Y), mezczyzna(X), X \\= Y.\n",
        "brat(X, Y) :- rodzic(Z, X), rodzic(Z, Y), mezczyzna(X), X = Y.\n",
        "siostra(X, Y) :- ojciec(Z, X), ojciec(Z, Y), kobieta(X), X \\= Y.\n",
        "siostra(X, Y) :- matka(Z, X), matka(Z, Y), kobieta(X), X \\= Y.\n",
        "siostra(X, Y) :- rodzic(Z, X), rodzic(Z, Y), kobieta(X), X \\= Y.\n",
        "% Dalsza rodzina\n",
        "kuzyn(X, Y) :- ojciec(Z, X), ojciec(W, Y), malzenstwo(Z, W).\n",
        "kuzyn(X, Y) :- matka(Z, X), matka(W, Y), malzenstwo(Z, W).\n",
        "kuzyn(X, Y) :- rodzic(A, X), rodzic(B, Y), (brat(A, B); siostra(A, B))."
      ],
      "metadata": {
        "colab": {
          "base_uri": "https://localhost:8080/",
          "height": 106
        },
        "id": "N4jQLmhfjDJY",
        "outputId": "10b95ee2-a9b3-4d28-b2bf-deaa80dfd344",
        "collapsed": true
      },
      "execution_count": null,
      "outputs": [
        {
          "output_type": "error",
          "ename": "SyntaxError",
          "evalue": "invalid syntax (<ipython-input-2-8a8e72acfa5d>, line 2)",
          "traceback": [
            "\u001b[0;36m  File \u001b[0;32m\"<ipython-input-2-8a8e72acfa5d>\"\u001b[0;36m, line \u001b[0;32m2\u001b[0m\n\u001b[0;31m    ojciec(tawus, emna).\u001b[0m\n\u001b[0m                        ^\u001b[0m\n\u001b[0;31mSyntaxError\u001b[0m\u001b[0;31m:\u001b[0m invalid syntax\n"
          ]
        }
      ]
    }
  ]
}