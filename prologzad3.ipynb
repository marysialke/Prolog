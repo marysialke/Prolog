{
  "nbformat": 4,
  "nbformat_minor": 0,
  "metadata": {
    "colab": {
      "provenance": []
    },
    "kernelspec": {
      "name": "python3",
      "display_name": "Python 3"
    },
    "language_info": {
      "name": "python"
    }
  },
  "cells": [
    {
      "cell_type": "markdown",
      "source": [
        "# Zadanie 3: System zarządzania magazynem\n",
        "\n",
        "Cel zadania: Stwórz i zaimplementuj bazę faktów dla systemu zarządzania magazynem. Baza danych powinna zawierać informacje o produktach, ich ilościach oraz lokalizacji w magazynie. Opracuj reguły, które umożliwią zarządzanie dostępnością produktów, ich przenoszeniem oraz uzupełnianiem stanu.\n",
        "\n",
        "Struktura bazy danych:\n",
        "\n",
        "* Produkty: Każdy produkt reprezentowany jest przez fakt zawierający nazwę produktu, jego ilość oraz sektor magazynowy, w którym się znajduje.\n",
        "\n",
        "Reguły do zdefiniowania:\n",
        "\n",
        "* dostepny_produkt(X): Sprawdza, czy produkt o nazwie X jest dostępny w magazynie (czyli czy jego ilość jest większa od zera).\n",
        "* przenies_produkt(X, Y): Przenosi produkt o nazwie X do innego sektora Y magazynu.\n",
        "* uzupelnij_stan(X, N): Uzupełnia stan produktu X o ilość N."
      ],
      "metadata": {
        "id": "3QJ26WXwgfcg"
      }
    },
    {
      "cell_type": "code",
      "source": [
        "% aby można było zmieniać\n",
        ":- dynamic produkt/3.\n",
        "\n",
        "% Fakty\n",
        "produkt(manga, 100, sektor_m).\n",
        "produkt(figurka, 200, sektor_f).\n",
        "produkt(przekąska, 30, sektor_p).\n",
        "produkt(napoj, 15, sektor_n).\n",
        "produkt(kalendarz, 0, sektor_k).\n",
        "produkt(brelok, 20, sektor_b).\n",
        "produkt(komiks, 60, sektor_m).\n",
        "produkt(kubek, 10, sektor_n).\n",
        "produkt(zeszyty, 30, sektor_k).\n",
        "produkt(mysterybox, 5, sektor_b).\n",
        "produkt(pluszaki, 55, sektor_f).\n",
        "\n",
        "% Dostęp\n",
        "dostepny_produkt(X) :-\n",
        "\tprodukt(X, Ilosc, _),\n",
        "\tIlosc > 0.\n",
        "\n",
        "% Przenoszenie\n",
        "przenies_produkt(X, Y) :-\n",
        "\tprodukt(X, Ilosc, DanySektor ),\n",
        "\tIlosc > 0,\n",
        "\tretract(produkt(X, Ilosc, DanySektor)),\n",
        "\tassertz(produkt(X, Ilosc, Y)),\n",
        "\tformat('Produkt ~w zostaje przeniesiony z ~w do ~w.', [X, DanySektor, Y]).\n",
        "\n",
        "% Uzupełnianie\n",
        "uzupelnij_produkt(X, N) :-\n",
        "    produkt(X, Ilosc, DanySektor),\n",
        "    N > 0,\n",
        "    NowaIlosc is Ilosc + N,\n",
        "    retract(produkt(X, Ilosc, DanySektor)),\n",
        "    assertz(produkt(X, NowaIlosc, DanySektor)),\n",
        "    format('Stan produktu ~w zostaje uzupełniony do ~d.', [X, NowaIlosc])."
      ],
      "metadata": {
        "id": "ug5UqJqvg2X3"
      },
      "execution_count": null,
      "outputs": []
    }
  ]
}