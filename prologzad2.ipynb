{
  "nbformat": 4,
  "nbformat_minor": 0,
  "metadata": {
    "colab": {
      "provenance": []
    },
    "kernelspec": {
      "name": "python3",
      "display_name": "Python 3"
    },
    "language_info": {
      "name": "python"
    }
  },
  "cells": [
    {
      "cell_type": "markdown",
      "source": [
        "# zad.2: System rezerwacji lotów\n",
        "Cel zadania: Stwórz i zaimplementuj bazę faktów dla systemu rezerwacji lotów, który umożliwia zarządzanie lotniskami, połączeniami między nimi oraz cenami biletów. Opracuj reguły, które pozwolą na zapytania o bezpośrednie połączenia, koszt podróży oraz znalezienie najkrótszej trasy między lotniskami.\n",
        "\n",
        "Specyfikacja bazy danych:\n",
        "\n",
        "* Lotniska: Definiuj lotniska jako indywidualne fakty.\n",
        "\n",
        "* Połączenia między lotniskami: Każde połączenie powinno zawierać informacje o punkcie startowym, punkcie docelowym oraz koszcie podróży.\n",
        "\n",
        "* Ceny biletów: Zintegrowane z faktami dotyczącymi połączeń.\n",
        "Reguły do zdefiniowania:\n",
        "\n",
        "`polaczenie(X, Y): Sprawdza, czy istnieje bezpośrednie połączenie lotnicze między lotniskiem X a lotniskiem Y. `\n",
        "\n",
        "`koszt_podrozy(X, Y, C): Określa koszt podróży między lotniskiem X a lotniskiem Y.`\n",
        "\n",
        "`najkrotsza_droga(X, Y): Wyznacza najkrótszą trasę (pod względem kosztów) między lotniskiem X a lotniskiem Y.`"
      ],
      "metadata": {
        "id": "3vyMXIc33w-9"
      }
    },
    {
      "cell_type": "code",
      "execution_count": null,
      "metadata": {
        "id": "6SNDoaat3pzT"
      },
      "outputs": [],
      "source": [
        "% Fakty\n",
        "lotnisko(monachium).\n",
        "lotnisko(innsbruck).\n",
        "lotnisko(tunis).\n",
        "polaczenie(monachium, innsbruck, 150).\n",
        "polaczenie(monachium, innsbruck, 290).\n",
        "polaczenie(innsbruck, tunis, 600).\n",
        "polaczenie(innsbruck, tunis, 470).\n",
        "polaczenie(monachium, tunis, 850).\n",
        "polaczenie(monachium, tunis, 700).\n",
        "\n",
        "% Czy jest bezpośrednie\n",
        "czy_polaczenie(X, Y) :- polaczenie(X, Y, _).\n",
        "czy_polaczenie(X, Y) :- polaczenie(Y, X, _).\n",
        "\n",
        "% Cena\n",
        "koszt_podrozy(X, Y, C) :- polaczenie(X, Y, C).\n",
        "koszt_podrozy(X, Y, C) :- polaczenie(Y, X, C).\n",
        "\n",
        "% Procedury\n",
        "polaczenie(X,Y) :- lotnisko(X), lotnisko(Y).\n",
        "najkrotsza_droga(X, Y) :- lotnisko(X), lotnisko(Y).\n",
        "\n",
        "% Najkrótsza droga\n",
        "najkrotsza_droga(X, Y) :-\n",
        "    findall(C, koszt_podrozy(X, Y, C), Ceny),\n",
        "    (Ceny = [] -> format('Nie ma lotu od ~w do ~w.', [X, Y]) ;\n",
        "    min_list(Ceny, MinKoszt),\n",
        "    format('Najkrótsza droga między ~w a ~w kosztuje: ~w', [X, Y, MinKoszt]))."
      ]
    }
  ]
}